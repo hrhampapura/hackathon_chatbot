


import openai
import json
import os


# !pip install --upgrade openai


assistant_instructions = """
You are a chatbot designed to help users plan and organize hackathons. 
You are an expert in hackathon planning and should provide detailed, helpful, and accurate responses. 
Whenever possible, include references to the relevant sections of the website https://hackathon-planning-kit.org
. Avoid adding unnecessary information.
"""


# Set your OpenAI API key
api_key = os.getenv("OPENAI_API_KEY")  # It's recommended to use environment variables for security

# Initialize the OpenAI client
client = openai.OpenAI(api_key=api_key)

# Define the assistant's behavior
assistant_instructions = """
You are a chatbot designed to assist users in planning and organizing hackathons. Provide detailed, accurate, and helpful responses based on the provided context.
"""

def get_chatbot_response(user_query, context):
    """
    Generate a chatbot response using the OpenAI client.

    Args:
        user_query (str): The user's question.
        context (str): Relevant context to guide the response.

    Returns:
        str: The chatbot's response.
    """
    messages = [
        {"role": "system", "content": assistant_instructions},
        {"role": "user", "content": f"{user_query}\n\nContext: {context}"}
    ]

    response = client.chat.completions.create(
        model="gpt-4o-mini",  # Use "gpt-3.5-turbo" for a more cost-effective option
        messages=messages
    )

    return response.choices[0].message.content

# Example usage
if __name__ == "__main__":
    user_query = "What are the best practices for recruiting participants?"
    context = "Recruiting participants involves creating a compelling value proposition, promoting through social media, reaching out to university networks, and using hackathon community platforms."
    chatbot_response = get_chatbot_response(user_query, context)
    print(chatbot_response)





user_query = " help me plan an entrepreneurial event for 50 people"
context = " "
chatbot_response = get_chatbot_response(user_query, context)
print(chatbot_response)
