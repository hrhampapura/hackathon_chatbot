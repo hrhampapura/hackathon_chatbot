{
 "cells": [
  {
   "cell_type": "markdown",
   "id": "bbe6ceec-5145-48dd-9e7e-ac35ba19f9c7",
   "metadata": {},
   "source": [
    "# An attempt to build a chatbot using openai's Assistants API\n",
    "- For more info, see https://platform.openai.com/docs/assistants/overview "
   ]
  },
  {
   "cell_type": "code",
   "execution_count": 1,
   "id": "cfcd7fbd-62f0-4d09-a82b-6c9f95d86e58",
   "metadata": {},
   "outputs": [],
   "source": [
    "import openai\n",
    "import json\n",
    "import os"
   ]
  },
  {
   "cell_type": "code",
   "execution_count": 2,
   "id": "260f3484-61e9-4a51-80b3-19996c7460c8",
   "metadata": {},
   "outputs": [],
   "source": [
    "# !pip install --upgrade openai"
   ]
  },
  {
   "cell_type": "code",
   "execution_count": 11,
   "id": "ffa78106-3197-4618-acc4-287f9c837fbb",
   "metadata": {},
   "outputs": [],
   "source": [
    "assistant_instructions = \"\"\"\n",
    "You are a chatbot designed to help users plan and organize hackathons. \n",
    "You are an expert in hackathon planning and should provide detailed, helpful, and accurate responses. \n",
    "Whenever possible, include references to the relevant sections of the website https://hackathon-planning-kit.org\n",
    ". Avoid adding unnecessary information.\n",
    "\"\"\""
   ]
  },
  {
   "cell_type": "code",
   "execution_count": 10,
   "id": "3cc083e0-d504-4fa5-87d1-ca5ca2dad8dc",
   "metadata": {},
   "outputs": [
    {
     "name": "stdout",
     "output_type": "stream",
     "text": [
      "Recruiting participants for a hackathon is a crucial element for its success. Here are some best practices that encompass your context while expanding on effective strategies:\n",
      "\n",
      "### 1. **Create a Compelling Value Proposition**\n",
      "   - **Highlight Benefits:** Clearly articulate what participants will gain from the hackathon, such as networking opportunities, skill development, mentorship, prizes, and potential job offers.\n",
      "   - **Engaging Theme:** Select a relevant and exciting theme that resonates with potential participants' interests and current industry trends.\n",
      "   - **Incorporate Swag:** Promote any giveaways or swag items (T-shirts, stickers, tech gadgets) that participants will receive, as incentives can increase interest.\n",
      "\n",
      "### 2. **Promote through Social Media**\n",
      "   - **Choose the Right Platforms:** Target platforms where your audience is most active, such as Twitter, LinkedIn, Instagram, and Discord.\n",
      "   - **Utilize Hashtags:** Create a unique hashtag for your hackathon to facilitate easier tracking and engagement, alongside using popular hackathon-related hashtags.\n",
      "   - **Engaging Content:** Share engaging content like teaser videos, testimonials from past participants, or infographics about the hackathon's impact.\n",
      "   - **Countdowns & Reminders:** Use countdown posts and reminders as the event date approaches to maintain enthusiasm and awareness.\n",
      "\n",
      "### 3. **Reach Out to University Networks**\n",
      "   - **Contact Relevant Departments:** Reach out to computer science, engineering, design, and entrepreneurship departments to share information with students.\n",
      "   - **Student Organizations:** Partner with student organizations such as coding clubs, entrepreneurship groups, or data science societies to spread the word.\n",
      "   - **Flyers and Workshops:** Organize workshops or info sessions at universities to directly engage students, distributing flyers or promotional materials.\n",
      "\n",
      "### 4. **Leverage Hackathon Community Platforms**\n",
      "   - **Event Listings:** Use platforms like Devpost, HackerEarth, and ChallengePost to create listings for your hackathon, making it easy for participants to find the event.\n",
      "   - **Engage with Communities:** Participate in forums and discussions on platforms like Reddit, Discord, or specialized hackathon community sites to promote the event and answer queries.\n",
      "   - **Collaboration with Familiar Platforms:** Collaborate with established hackathon platforms that have a dedicated participant base, such as Major League Hacking (MLH).\n",
      "\n",
      "### 5. **Utilize Email Marketing**\n",
      "   - **Targeted Campaigns:** Create a mailing list of potential participants from past events, university contacts, or tech meetups and send tailored messages.\n",
      "   - **Regular Updates:** Send out regular updates about hackathon milestones, speaker announcements, and tips for preparation leading up to the event.\n",
      "\n",
      "### 6. **Encourage Diverse Participation**\n",
      "   - **Inclusivity:** Promote diversity by encouraging participants from various backgrounds and skill levels. Highlight initiatives or workshops aimed at underrepresented groups in tech.\n",
      "   - **Form Teams Early:** Run pre-hackathon events or team-building sessions to help individuals find teammates and foster camaraderie.\n",
      "\n",
      "### 7. **Early Bird Incentives**\n",
      "   - **Registration Rewards:** Offer incentives for early registration, such as reduced fees, exclusive access to resources, or guaranteed slots for workshops.\n",
      "   - **Referral Programs:** Implement a referral system where participants receive benefits for bringing friends along, increasing word-of-mouth marketing.\n",
      "\n",
      "### 8. **Engage Influencers or Experts**\n",
      "   - **Guest Speakers and Judges:** Invite industry experts or popular figures to participate as speakers, judges, or mentors, attracting their followers to your event.\n",
      "   - **Testimonials & Endorsements:** Share testimonials from past participants or well-regarded figures in the tech community who endorse your event.\n",
      "\n",
      "### 9. **Post-Event Engagement**\n",
      "   - **Connection After the Event:** Continue engaging participants after the event by sending thank-you notes, sharing photos or video highlights, and keeping them updated on future events.\n",
      "   - **Build a Community:** Foster an ongoing community via social media groups or forums for participants to continue networking and collaboration.\n",
      "\n",
      "By employing these best practices, you can create an effective recruitment strategy that draws a diverse and enthusiastic group of participants to your hackathon.\n"
     ]
    }
   ],
   "source": [
    "# Set your OpenAI API key\n",
    "api_key = os.getenv(\"OPENAI_API_KEY\")  # It's recommended to use environment variables for security\n",
    "\n",
    "# Initialize the OpenAI client\n",
    "client = openai.OpenAI(api_key=api_key)\n",
    "\n",
    "# Define the assistant's behavior\n",
    "assistant_instructions = \"\"\"\n",
    "You are a chatbot designed to assist users in planning and organizing hackathons. Provide detailed, accurate, and helpful responses based on the provided context.\n",
    "\"\"\"\n",
    "\n",
    "def get_chatbot_response(user_query, context):\n",
    "    \"\"\"\n",
    "    Generate a chatbot response using the OpenAI client.\n",
    "\n",
    "    Args:\n",
    "        user_query (str): The user's question.\n",
    "        context (str): Relevant context to guide the response.\n",
    "\n",
    "    Returns:\n",
    "        str: The chatbot's response.\n",
    "    \"\"\"\n",
    "    messages = [\n",
    "        {\"role\": \"system\", \"content\": assistant_instructions},\n",
    "        {\"role\": \"user\", \"content\": f\"{user_query}\\n\\nContext: {context}\"}\n",
    "    ]\n",
    "\n",
    "    response = client.chat.completions.create(\n",
    "        model=\"gpt-4o-mini\",  # Use \"gpt-3.5-turbo\" for a more cost-effective option\n",
    "        messages=messages\n",
    "    )\n",
    "\n",
    "    return response.choices[0].message.content\n",
    "\n",
    "# Example usage\n",
    "if __name__ == \"__main__\":\n",
    "    user_query = \"What are the best practices for recruiting participants?\"\n",
    "    context = \"Recruiting participants involves creating a compelling value proposition, promoting through social media, reaching out to university networks, and using hackathon community platforms.\"\n",
    "    chatbot_response = get_chatbot_response(user_query, context)\n",
    "    print(chatbot_response)"
   ]
  },
  {
   "cell_type": "markdown",
   "id": "88032a96-d529-4256-897f-d75e7df29be6",
   "metadata": {},
   "source": [
    "## Ask another question, without giving much context"
   ]
  },
  {
   "cell_type": "code",
   "execution_count": 8,
   "id": "4fcb0043-29d1-4498-9ab7-8136aadb796c",
   "metadata": {},
   "outputs": [
    {
     "name": "stdout",
     "output_type": "stream",
     "text": [
      "Planning an entrepreneurial event for 50 people can be an exciting opportunity to foster innovation, networking, and collaboration among aspiring entrepreneurs. Here’s a step-by-step guide to help you organize a successful event.\n",
      "\n",
      "### Step 1: Define the Purpose and Format\n",
      "1. **Objective**: What is the purpose of the event? Is it to pitch ideas, network, showcase products, or provide educational workshops?\n",
      "   \n",
      "2. **Format**: Choose a format that aligns with your objective. Options include:\n",
      "   - **Networking Event**: Allow entrepreneurs to connect with industry experts and investors.\n",
      "   - **Pitch Competition**: Attendees pitch business ideas to a panel of judges.\n",
      "   - **Workshops**: Focus on specific skills like marketing, finance, or product development.\n",
      "   - **Panel Discussion**: Experts share insights on entrepreneurship.\n",
      "   - **Hackathon**: Collaborate on developing product prototypes or solutions.\n",
      "\n",
      "### Step 2: Set a Date and Venue\n",
      "1. **Date**: Choose a date that avoids major holidays or local events to increase attendance.\n",
      "  \n",
      "2. **Venue**: Consider venues that can accommodate 50 people comfortably, such as:\n",
      "   - Co-working spaces with event facilities\n",
      "   - Local community centers\n",
      "   - University event halls\n",
      "   - Cafés with private rooms\n",
      "\n",
      "### Step 3: Create a Budget\n",
      "1. **Estimate Costs**: Include venue rental, catering, materials, marketing, speakers, and any additional activities.\n",
      "  \n",
      "2. **Income Sources**: Determine if you will charge a registration fee, seek sponsorships, or apply for grants. \n",
      "\n",
      "### Step 4: Develop the Agenda \n",
      "1. **Structure**: Outline the timing for each segment of the event.\n",
      "   - Registration and Networking\n",
      "   - Welcome Address/Keynote Speaker\n",
      "   - Sessions/Workshops/Pitching Rounds\n",
      "   - Breakout Discussions\n",
      "   - Closing Remarks and Networking Session\n",
      "\n",
      "2. **Speakers**: Invite knowledgeable speakers or panelists who can engage and inspire the audience.\n",
      "\n",
      "### Step 5: Marketing and Promotion\n",
      "1. **Target Audience**: Identify who would be interested in your event—students, startups, small business owners, etc.\n",
      "  \n",
      "2. **Promotion Channels**: Use social media, local entrepreneurship forums, websites, and email marketing. Create an event page on platforms like Eventbrite or Meetup.\n",
      "\n",
      "3. **RSVP Process**: Set up an easy registration process to manage attendees.\n",
      "\n",
      "### Step 6: Logistics and On-Site Management\n",
      "1. **Materials and Technology**: Prepare necessary materials (name tags, programs, handouts) and ensure any technology (projectors, sound systems) is tested before the event.\n",
      "\n",
      "2. **Catering**: If providing food, opt for refreshments or finger food that’s easy to eat while networking. Consider dietary restrictions when planning the menu. \n",
      "\n",
      "3. **Event Staff**: Have a team of volunteers or staff to assist with registration, guiding guests, and coordinating activities during the event.\n",
      "\n",
      "### Step 7: Follow Up Post-Event\n",
      "1. **Thank You Notes**: Send thank-you emails to attendees, speakers, and sponsors. \n",
      "\n",
      "2. **Feedback**: Collect feedback through surveys to improve future events. Ask what they enjoyed and what could be improved. \n",
      "\n",
      "3. **Networking**: Consider creating a follow-up communication channel (like a Facebook group or email list) for attendees to continue networking.\n",
      "\n",
      "### Additional Tips\n",
      "- Ensure your event is inclusive and accessible for all participants.\n",
      "- Encourage participation by introducing icebreaker activities.\n",
      "- Be prepared for unexpected changes and have contingency plans in place.\n",
      "\n",
      "By following these steps, you can create an engaging and productive entrepreneurial event for your attendees, fostering collaboration and innovation among budding entrepreneurs. Good luck with your planning!\n"
     ]
    }
   ],
   "source": [
    "user_query = \" help me plan an entrepreneurial event for 50 people\"\n",
    "context = \" \"\n",
    "chatbot_response = get_chatbot_response(user_query, context)\n",
    "print(chatbot_response)"
   ]
  }
 ],
 "metadata": {
  "kernelspec": {
   "display_name": "Python 3 (ipykernel)",
   "language": "python",
   "name": "python3"
  },
  "language_info": {
   "codemirror_mode": {
    "name": "ipython",
    "version": 3
   },
   "file_extension": ".py",
   "mimetype": "text/x-python",
   "name": "python",
   "nbconvert_exporter": "python",
   "pygments_lexer": "ipython3",
   "version": "3.11.7"
  }
 },
 "nbformat": 4,
 "nbformat_minor": 5
}
