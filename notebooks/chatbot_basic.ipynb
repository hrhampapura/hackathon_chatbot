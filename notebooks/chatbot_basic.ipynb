{
 "cells": [
  {
   "cell_type": "markdown",
   "id": "2b461e1c-e5a8-4615-a5ef-95896c0b64b3",
   "metadata": {},
   "source": [
    "# An attempt to build a chatbot using openai's python API"
   ]
  },
  {
   "cell_type": "code",
   "execution_count": 1,
   "id": "6d68dc2c-f40b-4345-8a73-bbe4809e8174",
   "metadata": {},
   "outputs": [],
   "source": [
    "import json"
   ]
  },
  {
   "cell_type": "code",
   "execution_count": 3,
   "id": "dd9ad8fa-b78e-4fe7-a593-d6ea559b794c",
   "metadata": {},
   "outputs": [
    {
     "name": "stdout",
     "output_type": "stream",
     "text": [
      "Page URL: https://hackathon-planning-kit.org/\n"
     ]
    }
   ],
   "source": [
    "# Load the JSON file\n",
    "with open(\"hackathon_output.json\", \"r\", encoding=\"utf-8\") as f:\n",
    "    data = json.load(f)\n",
    "\n",
    "# Example: Print all URLs\n",
    "for entry in data:\n",
    "    print(f\"Page URL: {entry['url']}\")"
   ]
  },
  {
   "cell_type": "code",
   "execution_count": null,
   "id": "7b6160af-5039-47a9-b711-7a859957c8c9",
   "metadata": {},
   "outputs": [],
   "source": []
  }
 ],
 "metadata": {
  "kernelspec": {
   "display_name": "Python 3 (ipykernel)",
   "language": "python",
   "name": "python3"
  },
  "language_info": {
   "codemirror_mode": {
    "name": "ipython",
    "version": 3
   },
   "file_extension": ".py",
   "mimetype": "text/x-python",
   "name": "python",
   "nbconvert_exporter": "python",
   "pygments_lexer": "ipython3",
   "version": "3.11.7"
  }
 },
 "nbformat": 4,
 "nbformat_minor": 5
}
